{
 "cells": [
  {
   "cell_type": "code",
   "execution_count": 19,
   "id": "6a110b89",
   "metadata": {},
   "outputs": [],
   "source": [
    "from sage.graphs.base.static_sparse_graph import tarjan_strongly_connected_components\n",
    "import pandas as pd\n",
    "import pyarrow"
   ]
  },
  {
   "cell_type": "code",
   "execution_count": 80,
   "id": "6a27c4c1",
   "metadata": {},
   "outputs": [],
   "source": [
    "df = pd.read_parquet(\"adj_list_dummy_4.parquet\", columns=[\"addr_id1\", \"addr_id2\"] , engine='pyarrow')"
   ]
  },
  {
   "cell_type": "code",
   "execution_count": 81,
   "id": "968c741a",
   "metadata": {},
   "outputs": [
    {
     "data": {
      "text/plain": [
       "{1: [2]}"
      ]
     },
     "execution_count": 81,
     "metadata": {},
     "output_type": "execute_result"
    }
   ],
   "source": [
    "# replace <NA> with the value from the corresponding column\n",
    "df['addr_id1'] = df['addr_id1'].fillna(df['addr_id2'])\n",
    "df['addr_id2'] = df['addr_id2'].fillna(df['addr_id1'])\n",
    "graph = df.groupby('addr_id1')['addr_id2'].apply(list).to_dict()\n",
    "graph"
   ]
  },
  {
   "cell_type": "code",
   "execution_count": 72,
   "id": "9ac0f329",
   "metadata": {},
   "outputs": [
    {
     "name": "stdout",
     "output_type": "stream",
     "text": [
      "Looped digraph on 3 vertices\n"
     ]
    }
   ],
   "source": [
    "from sage.graphs.digraph import DiGraph\n",
    "\n",
    "def create_digraph(adjacency_list):\n",
    "    graph = DiGraph(loops=True)\n",
    "    for vertex, neighbors in adjacency_list.items():\n",
    "        graph.add_vertex(vertex)\n",
    "        for neighbor in neighbors:\n",
    "            graph.add_edge((vertex, neighbor))\n",
    "    return graph\n",
    "\n",
    "# Example adjacency list\n",
    "adjacency_list = {\n",
    "    'A': ['B', 'C'],\n",
    "    'B': ['C'],\n",
    "    'C': ['A']\n",
    "}\n",
    "\n",
    "# Convert adjacency list to DiGraph\n",
    "digraph = create_digraph(adjacency_list)\n",
    "\n",
    "# Print the resulting DiGraph\n",
    "print(digraph)\n"
   ]
  },
  {
   "cell_type": "code",
   "execution_count": 82,
   "id": "03d46fb7",
   "metadata": {},
   "outputs": [
    {
     "data": {
      "text/plain": [
       "[[2], [1]]"
      ]
     },
     "execution_count": 82,
     "metadata": {},
     "output_type": "execute_result"
    }
   ],
   "source": [
    "digraph = create_digraph(graph)\n",
    "sccs = tarjan_strongly_connected_components(digraph)\n",
    "sccs"
   ]
  },
  {
   "cell_type": "code",
   "execution_count": null,
   "id": "16889ea3",
   "metadata": {},
   "outputs": [],
   "source": []
  }
 ],
 "metadata": {
  "kernelspec": {
   "display_name": "SageMath 10.0",
   "language": "sage",
   "name": "sagemath-10.0"
  },
  "language_info": {
   "codemirror_mode": {
    "name": "ipython",
    "version": 3
   },
   "file_extension": ".py",
   "mimetype": "text/x-python",
   "name": "python",
   "nbconvert_exporter": "python",
   "pygments_lexer": "ipython3",
   "version": "3.11.1"
  }
 },
 "nbformat": 4,
 "nbformat_minor": 5
}
