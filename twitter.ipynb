{
  "cells": [
    {
      "attachments": {},
      "cell_type": "markdown",
      "metadata": {
        "id": "36v7kmjW6meL"
      },
      "source": [
        "# Pour regrouper des achats par SCC (Strongly Connected Components) https://www.geeksforgeeks.org/strongly-connected-components/\n",
        "\n",
        "Deniz Sert\n",
        "12/06/23"
      ]
    },
    {
      "cell_type": "code",
      "execution_count": 26,
      "metadata": {},
      "outputs": [],
      "source": [
        "from tqdm.notebook import tqdm as progressbar"
      ]
    },
    {
      "cell_type": "code",
      "execution_count": 1,
      "metadata": {
        "colab": {
          "base_uri": "https://localhost:8080/"
        },
        "id": "2Q5X6DXdDvbn",
        "outputId": "3702b097-346d-4b5a-ba46-5025150e3e0c"
      },
      "outputs": [],
      "source": [
        "import pandas as pd\n",
        "import numpy as np\n",
        "\n",
        "df_adjacency_list = pd.read_parquet('early_adj.parquet')\n",
        "\n",
        "\n",
        "# Create dummy data points\n",
        "# data = [\n",
        "#     [1, 2, 100, 10],\n",
        "#     [2, 1, 50, 15],\n",
        "#     [3, 4, 200, 20],\n",
        "#     [4, 5, 150, 25],\n",
        "#     [5, 6, 300, 30],\n",
        "#     [6, 5, 75, 35],\n",
        "#     [7, 8, 250, 40],\n",
        "#     [8, 9, 125, 45],\n",
        "#     [9, 10, 400, 50],\n",
        "#     [10, 11, 175, 55],\n",
        "#     [11, 10, 225, 60],\n",
        "#     [12, 13, 350, 65],\n",
        "#     [13, 14, 275, 70],\n",
        "#     [14, 15, 125, 75],\n",
        "#     [15, 1, 275, 80],\n",
        "#     [16, 17, 150, 85],\n",
        "#     [17, 18, 200, 90],\n",
        "#     [18, 15, 100, 95],\n",
        "#     [19, 2, 400, 100],\n",
        "#     [20, 1, 50, 105]\n",
        "# ]\n",
        "\n",
        "# Create a DataFrame with the dummy data\n",
        "# df_dummy = pd.DataFrame(data, columns=[\"addr_id1\", \"addr_id2\", \"value\", \"height\"]).astype(\n",
        "#     {\n",
        "#         \"addr_id1\": \"UInt32\",\n",
        "#         \"addr_id2\": \"UInt32\",\n",
        "#         \"value\": \"UInt64\",\n",
        "#         \"height\": \"UInt32\",\n",
        "#     }\n",
        "# )\n",
        "\n",
        "# Append the DataFrame to the adjacency list\n",
        "# df_adjacency_list = df_dummy\n",
        "# print(df_adjacency_list)"
      ]
    },
    {
      "cell_type": "code",
      "execution_count": 2,
      "metadata": {
        "id": "BBU58qeeGL5U"
      },
      "outputs": [
        {
          "ename": "ModuleNotFoundError",
          "evalue": "No module named 'networkx'",
          "output_type": "error",
          "traceback": [
            "\u001b[0;31m---------------------------------------------------------------------------\u001b[0m",
            "\u001b[0;31mModuleNotFoundError\u001b[0m                       Traceback (most recent call last)",
            "Cell \u001b[0;32mIn[2], line 1\u001b[0m\n\u001b[0;32m----> 1\u001b[0m \u001b[39mimport\u001b[39;00m \u001b[39mnetworkx\u001b[39;00m \u001b[39mas\u001b[39;00m \u001b[39mnx\u001b[39;00m\n\u001b[1;32m      2\u001b[0m \u001b[39mimport\u001b[39;00m \u001b[39mmatplotlib\u001b[39;00m\u001b[39m.\u001b[39;00m\u001b[39mpyplot\u001b[39;00m \u001b[39mas\u001b[39;00m \u001b[39mplt\u001b[39;00m\n\u001b[1;32m      4\u001b[0m \u001b[39mdef\u001b[39;00m \u001b[39mcreate_dag\u001b[39m(adj_list):\n\u001b[1;32m      5\u001b[0m   \u001b[39m# init empty DAG\u001b[39;00m\n",
            "\u001b[0;31mModuleNotFoundError\u001b[0m: No module named 'networkx'"
          ]
        }
      ],
      "source": [
        "import networkx as nx\n",
        "import matplotlib.pyplot as plt\n",
        "\n",
        "def create_dag(adj_list):\n",
        "  # init empty DAG\n",
        "  dag = nx.DiGraph()\n",
        "\n",
        "  for ix, entry in adj_list.iterrows():\n",
        "      source = entry[\"addr_id1\"]\n",
        "      destination = entry[\"addr_id2\"]\n",
        "      value = entry[\"value\"]\n",
        "      height = entry[\"height\"]\n",
        "      dag.add_edge(source, destination, value=value, height=height)\n",
        "\n",
        "\n",
        "  nx.draw_networkx(dag, with_labels=True, node_color='lightblue', edge_color='gray')\n",
        "  plt.show()\n",
        "  print(dag)\n",
        "\n",
        "  return dag"
      ]
    },
    {
      "cell_type": "code",
      "execution_count": 3,
      "metadata": {
        "id": "zXWmLgl76iec"
      },
      "outputs": [],
      "source": [
        "from collections import defaultdict\n",
        "\n",
        "def cluster_nodes(adjacency_list):\n",
        "    dag = create_directed_graph(adjacency_list)\n",
        "    clusters = identify_clusters(dag)\n",
        "    \n",
        "    # Analyze clusters and identify specific characteristics\n",
        "    \n",
        "    return clusters\n",
        "\n",
        "def create_directed_graph(adjacency_list):\n",
        "    dag = defaultdict(list)\n",
        "    for entry in adjacency_list:\n",
        "        source = entry[\"addr_id1\"]\n",
        "        destination = entry[\"addr_id2\"]\n",
        "        value = entry[\"value\"]\n",
        "        height = entry[\"height\"]\n",
        "        dag[source].append((destination, value, height))\n",
        "    \n",
        "    return dag\n",
        "\n",
        "def identify_clusters(dag):\n",
        "    # Use Strongly Connected Components (SCC) algorithm\n",
        "    # to identify clusters within the DAG\n",
        "    clusters = []\n",
        "    \n",
        "    # Implement SCC algorithm here\n",
        "    \n",
        "    return clusters"
      ]
    },
    {
      "cell_type": "code",
      "execution_count": null,
      "metadata": {
        "id": "qnv-V8ao7J-9"
      },
      "outputs": [],
      "source": [
        "#  df_adjacency_list.append(\n",
        "#              pd.DataFrame(\n",
        "#                  adjacency, columns=[\"addr_id1\", \"addr_id2\", \"value\",\n",
        "# \"height\"]\n",
        "#              ).astype(\n",
        "#                  {\n",
        "#                      \"addr_id1\": \"UInt32\",\n",
        "#                      \"addr_id2\": \"UInt32\",\n",
        "#                      \"value\": \"UInt64\",\n",
        "#                      \"height\": \"UInt32\",\n",
        "#                  }\n",
        "#              )\n",
        "#          )\n",
        "\n",
        "# 1.5B unique address\n",
        "# 10B tuples"
      ]
    },
    {
      "attachments": {},
      "cell_type": "markdown",
      "metadata": {
        "id": "VlF_JzhN8PMn"
      },
      "source": [
        "## SCC peut été implementé par l’algorithme de Tarjan"
      ]
    },
    {
      "cell_type": "code",
      "execution_count": 29,
      "metadata": {
        "colab": {
          "base_uri": "https://localhost:8080/"
        },
        "id": "zt57R9k07PSx",
        "outputId": "1de21280-c653-4d21-cc56-d28e9d7ddf9a"
      },
      "outputs": [
        {
          "ename": "ImportError",
          "evalue": "IProgress not found. Please update jupyter and ipywidgets. See https://ipywidgets.readthedocs.io/en/stable/user_install.html",
          "output_type": "error",
          "traceback": [
            "\u001b[0;31m---------------------------------------------------------------------------\u001b[0m",
            "\u001b[0;31mImportError\u001b[0m                               Traceback (most recent call last)",
            "Cell \u001b[0;32mIn[29], line 43\u001b[0m\n\u001b[1;32m     39\u001b[0m     \u001b[39mreturn\u001b[39;00m result\n\u001b[1;32m     42\u001b[0m \u001b[39m# Example usage\u001b[39;00m\n\u001b[0;32m---> 43\u001b[0m strongly_connected_components \u001b[39m=\u001b[39m tarjans_algorithm(df_adjacency_list[:\u001b[39m1000\u001b[39;49m])\n\u001b[1;32m     44\u001b[0m \u001b[39mprint\u001b[39m(strongly_connected_components)\n",
            "Cell \u001b[0;32mIn[29], line 35\u001b[0m, in \u001b[0;36mtarjans_algorithm\u001b[0;34m(graph)\u001b[0m\n\u001b[1;32m     32\u001b[0m                 \u001b[39mbreak\u001b[39;00m\n\u001b[1;32m     33\u001b[0m         result\u001b[39m.\u001b[39mappend(scc)\n\u001b[0;32m---> 35\u001b[0m \u001b[39mfor\u001b[39;00m node \u001b[39min\u001b[39;00m progressbar(graph[\u001b[39m'\u001b[39;49m\u001b[39maddr_id1\u001b[39;49m\u001b[39m'\u001b[39;49m]\u001b[39m.\u001b[39;49munique()):\n\u001b[1;32m     36\u001b[0m     \u001b[39mif\u001b[39;00m node \u001b[39mnot\u001b[39;00m \u001b[39min\u001b[39;00m visited:\n\u001b[1;32m     37\u001b[0m         strongconnect(node)\n",
            "File \u001b[0;32m/opt/homebrew/lib/python3.11/site-packages/tqdm/notebook.py:238\u001b[0m, in \u001b[0;36mtqdm_notebook.__init__\u001b[0;34m(self, *args, **kwargs)\u001b[0m\n\u001b[1;32m    236\u001b[0m unit_scale \u001b[39m=\u001b[39m \u001b[39m1\u001b[39m \u001b[39mif\u001b[39;00m \u001b[39mself\u001b[39m\u001b[39m.\u001b[39munit_scale \u001b[39mis\u001b[39;00m \u001b[39mTrue\u001b[39;00m \u001b[39melse\u001b[39;00m \u001b[39mself\u001b[39m\u001b[39m.\u001b[39munit_scale \u001b[39mor\u001b[39;00m \u001b[39m1\u001b[39m\n\u001b[1;32m    237\u001b[0m total \u001b[39m=\u001b[39m \u001b[39mself\u001b[39m\u001b[39m.\u001b[39mtotal \u001b[39m*\u001b[39m unit_scale \u001b[39mif\u001b[39;00m \u001b[39mself\u001b[39m\u001b[39m.\u001b[39mtotal \u001b[39melse\u001b[39;00m \u001b[39mself\u001b[39m\u001b[39m.\u001b[39mtotal\n\u001b[0;32m--> 238\u001b[0m \u001b[39mself\u001b[39m\u001b[39m.\u001b[39mcontainer \u001b[39m=\u001b[39m \u001b[39mself\u001b[39;49m\u001b[39m.\u001b[39;49mstatus_printer(\u001b[39mself\u001b[39;49m\u001b[39m.\u001b[39;49mfp, total, \u001b[39mself\u001b[39;49m\u001b[39m.\u001b[39;49mdesc, \u001b[39mself\u001b[39;49m\u001b[39m.\u001b[39;49mncols)\n\u001b[1;32m    239\u001b[0m \u001b[39mself\u001b[39m\u001b[39m.\u001b[39mcontainer\u001b[39m.\u001b[39mpbar \u001b[39m=\u001b[39m proxy(\u001b[39mself\u001b[39m)\n\u001b[1;32m    240\u001b[0m \u001b[39mself\u001b[39m\u001b[39m.\u001b[39mdisplayed \u001b[39m=\u001b[39m \u001b[39mFalse\u001b[39;00m\n",
            "File \u001b[0;32m/opt/homebrew/lib/python3.11/site-packages/tqdm/notebook.py:113\u001b[0m, in \u001b[0;36mtqdm_notebook.status_printer\u001b[0;34m(_, total, desc, ncols)\u001b[0m\n\u001b[1;32m    104\u001b[0m \u001b[39m# Fallback to text bar if there's no total\u001b[39;00m\n\u001b[1;32m    105\u001b[0m \u001b[39m# DEPRECATED: replaced with an 'info' style bar\u001b[39;00m\n\u001b[1;32m    106\u001b[0m \u001b[39m# if not total:\u001b[39;00m\n\u001b[0;32m   (...)\u001b[0m\n\u001b[1;32m    110\u001b[0m \n\u001b[1;32m    111\u001b[0m \u001b[39m# Prepare IPython progress bar\u001b[39;00m\n\u001b[1;32m    112\u001b[0m \u001b[39mif\u001b[39;00m IProgress \u001b[39mis\u001b[39;00m \u001b[39mNone\u001b[39;00m:  \u001b[39m# #187 #451 #558 #872\u001b[39;00m\n\u001b[0;32m--> 113\u001b[0m     \u001b[39mraise\u001b[39;00m \u001b[39mImportError\u001b[39;00m(WARN_NOIPYW)\n\u001b[1;32m    114\u001b[0m \u001b[39mif\u001b[39;00m total:\n\u001b[1;32m    115\u001b[0m     pbar \u001b[39m=\u001b[39m IProgress(\u001b[39mmin\u001b[39m\u001b[39m=\u001b[39m\u001b[39m0\u001b[39m, \u001b[39mmax\u001b[39m\u001b[39m=\u001b[39mtotal)\n",
            "\u001b[0;31mImportError\u001b[0m: IProgress not found. Please update jupyter and ipywidgets. See https://ipywidgets.readthedocs.io/en/stable/user_install.html"
          ]
        }
      ],
      "source": [
        "import numpy as np\n",
        "\n",
        "def tarjans_algorithm(graph):\n",
        "    index_counter = [0]\n",
        "    stack = []\n",
        "    lowlink = {}\n",
        "    indices = {}\n",
        "    visited = set()\n",
        "    result = []\n",
        "\n",
        "    def strongconnect(node):\n",
        "        indices[node] = index_counter[0]\n",
        "        lowlink[node] = index_counter[0]\n",
        "        index_counter[0] += 1\n",
        "        stack.append(node)\n",
        "        visited.add(node)\n",
        "\n",
        "        successors = list(graph.loc[graph['addr_id1'] == node]['addr_id2'])\n",
        "        for successor in successors:\n",
        "            if successor not in visited:\n",
        "                strongconnect(successor)\n",
        "                lowlink[node] = min(lowlink[node], lowlink[successor])\n",
        "            elif successor in stack:\n",
        "                lowlink[node] = min(lowlink[node], indices[successor])\n",
        "\n",
        "        if lowlink[node] == indices[node]:\n",
        "            scc = []\n",
        "            while True:\n",
        "                successor = stack.pop()\n",
        "                scc.append(successor)\n",
        "                if pd.isnull(successor) or successor == node:\n",
        "                    break\n",
        "            result.append(scc)\n",
        "\n",
        "    for node in progressbar(graph['addr_id1'].unique()):\n",
        "        if node not in visited:\n",
        "            strongconnect(node)\n",
        "\n",
        "    return result\n",
        "\n",
        "\n",
        "# Example usage\n",
        "strongly_connected_components = tarjans_algorithm(df_adjacency_list[:1000])\n",
        "print(strongly_connected_components)"
      ]
    }
  ],
  "metadata": {
    "colab": {
      "provenance": []
    },
    "kernelspec": {
      "display_name": "Python 3",
      "name": "python3"
    },
    "language_info": {
      "codemirror_mode": {
        "name": "ipython",
        "version": 3
      },
      "file_extension": ".py",
      "mimetype": "text/x-python",
      "name": "python",
      "nbconvert_exporter": "python",
      "pygments_lexer": "ipython3",
      "version": "3.11.2"
    }
  },
  "nbformat": 4,
  "nbformat_minor": 0
}
