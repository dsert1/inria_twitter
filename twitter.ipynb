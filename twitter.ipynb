{
  "cells": [
    {
      "attachments": {},
      "cell_type": "markdown",
      "metadata": {
        "id": "36v7kmjW6meL"
      },
      "source": [
        "# Pour regrouper des achats par SCC (Strongly Connected Components) https://www.geeksforgeeks.org/strongly-connected-components/\n",
        "\n",
        "Deniz Sert\n",
        "12/06/23"
      ]
    },
    {
      "cell_type": "code",
      "execution_count": 9,
      "metadata": {},
      "outputs": [],
      "source": [
        "from tqdm.notebook import tqdm as progressbar\n",
        "import numpy as np\n",
        "import pprint\n",
        "from numba import jit, njit"
      ]
    },
    {
      "cell_type": "code",
      "execution_count": 2,
      "metadata": {
        "colab": {
          "base_uri": "https://localhost:8080/"
        },
        "id": "2Q5X6DXdDvbn",
        "outputId": "3702b097-346d-4b5a-ba46-5025150e3e0c"
      },
      "outputs": [],
      "source": [
        "import pandas as pd\n",
        "import numpy as np\n",
        "\n",
        "df_adjacency_list = pd.read_parquet('early_adj.parquet')\n",
        "\n",
        "\n",
        "# Create dummy data points\n",
        "# data = [\n",
        "#     [1, 2, 100, 10],\n",
        "#     [2, 1, 50, 15],\n",
        "#     [3, 4, 200, 20],\n",
        "#     [4, 5, 150, 25],\n",
        "#     [5, 6, 300, 30],\n",
        "#     [6, 5, 75, 35],\n",
        "#     [7, 8, 250, 40],\n",
        "#     [8, 9, 125, 45],\n",
        "#     [9, 10, 400, 50],\n",
        "#     [10, 11, 175, 55],\n",
        "#     [11, 10, 225, 60],\n",
        "#     [12, 13, 350, 65],\n",
        "#     [13, 14, 275, 70],\n",
        "#     [14, 15, 125, 75],\n",
        "#     [15, 1, 275, 80],\n",
        "#     [16, 17, 150, 85],\n",
        "#     [17, 18, 200, 90],\n",
        "#     [18, 15, 100, 95],\n",
        "#     [19, 2, 400, 100],\n",
        "#     [20, 1, 50, 105]\n",
        "# ]\n",
        "\n",
        "# Create a DataFrame with the dummy data\n",
        "# df_dummy = pd.DataFrame(data, columns=[\"addr_id1\", \"addr_id2\", \"value\", \"height\"]).astype(\n",
        "#     {\n",
        "#         \"addr_id1\": \"UInt32\",\n",
        "#         \"addr_id2\": \"UInt32\",\n",
        "#         \"value\": \"UInt64\",\n",
        "#         \"height\": \"UInt32\",\n",
        "#     }\n",
        "# )\n",
        "\n",
        "# Append the DataFrame to the adjacency list\n",
        "# df_adjacency_list = df_dummy\n",
        "# print(df_adjacency_list)"
      ]
    },
    {
      "cell_type": "code",
      "execution_count": 3,
      "metadata": {
        "id": "zXWmLgl76iec"
      },
      "outputs": [],
      "source": [
        "from collections import defaultdict\n",
        "\n",
        "def cluster_nodes(adjacency_list):\n",
        "    dag = create_directed_graph(adjacency_list)\n",
        "    clusters = identify_clusters(dag)\n",
        "    \n",
        "    # Analyze clusters and identify specific characteristics\n",
        "    \n",
        "    return clusters\n",
        "\n",
        "def create_directed_graph(adjacency_list):\n",
        "    dag = defaultdict(list)\n",
        "    for entry in adjacency_list:\n",
        "        source = entry[\"addr_id1\"]\n",
        "        destination = entry[\"addr_id2\"]\n",
        "        value = entry[\"value\"]\n",
        "        height = entry[\"height\"]\n",
        "        dag[source].append((destination, value, height))\n",
        "    \n",
        "    return dag\n",
        "\n",
        "def identify_clusters(dag):\n",
        "    # Use Strongly Connected Components (SCC) algorithm\n",
        "    # to identify clusters within the DAG\n",
        "    clusters = []\n",
        "    \n",
        "    # Implement SCC algorithm here\n",
        "    \n",
        "    return clusters"
      ]
    },
    {
      "attachments": {},
      "cell_type": "markdown",
      "metadata": {
        "id": "VlF_JzhN8PMn"
      },
      "source": [
        "## SCC peut été implementé par l’algorithme de Tarjan"
      ]
    },
    {
      "cell_type": "code",
      "execution_count": 13,
      "metadata": {
        "colab": {
          "base_uri": "https://localhost:8080/"
        },
        "id": "zt57R9k07PSx",
        "outputId": "1de21280-c653-4d21-cc56-d28e9d7ddf9a"
      },
      "outputs": [
        {
          "data": {
            "application/vnd.jupyter.widget-view+json": {
              "model_id": "bfc88207bed849ae838cdbf95ab67a1a",
              "version_major": 2,
              "version_minor": 0
            },
            "text/plain": [
              "  0%|          | 0/977 [00:00<?, ?it/s]"
            ]
          },
          "metadata": {},
          "output_type": "display_data"
        },
        {
          "name": "stdout",
          "output_type": "stream",
          "text": [
            "[]\n"
          ]
        }
      ],
      "source": [
        "def tarjans_algorithm(graph):\n",
        "    index_counter = [0]\n",
        "    stack = []\n",
        "    lowlink = {}\n",
        "    indices = {}\n",
        "    visited = set()\n",
        "    result = []\n",
        "\n",
        "    def strongconnect(node):\n",
        "        indices[node] = index_counter[0]\n",
        "        lowlink[node] = index_counter[0]\n",
        "        index_counter[0] += 1\n",
        "        stack.append(node)\n",
        "        visited.add(node)\n",
        "\n",
        "        successors = list(graph.loc[graph['addr_id1'] == node]['addr_id2'])\n",
        "        for successor in successors:\n",
        "            if successor not in visited:\n",
        "                strongconnect(successor)\n",
        "                lowlink[node] = min(lowlink[node], lowlink[successor])\n",
        "            elif successor in stack:\n",
        "                lowlink[node] = min(lowlink[node], indices[successor])\n",
        "\n",
        "        if lowlink[node] == indices[node]:\n",
        "            scc = []\n",
        "            while True:\n",
        "                successor = stack.pop()\n",
        "                scc.append(successor)\n",
        "                if pd.isnull(successor) or successor == node:\n",
        "                    break\n",
        "            result.append(scc)\n",
        "\n",
        "    for node in progressbar(graph['addr_id1'].unique()):\n",
        "        if node not in visited:\n",
        "            strongconnect(node)\n",
        "\n",
        "    return result\n",
        "\n",
        "\n",
        "# Example usage\n",
        "strongly_connected_components = np.array(tarjans_algorithm(df_adjacency_list[:1000]))\n",
        "# print all the elements in the array whose length are greater than 1\n",
        "print([x for x in strongly_connected_components if len(x) > 1])"
      ]
    }
  ],
  "metadata": {
    "colab": {
      "provenance": []
    },
    "kernelspec": {
      "display_name": "Python 3",
      "name": "python3"
    },
    "language_info": {
      "codemirror_mode": {
        "name": "ipython",
        "version": 3
      },
      "file_extension": ".py",
      "mimetype": "text/x-python",
      "name": "python",
      "nbconvert_exporter": "python",
      "pygments_lexer": "ipython3",
      "version": "3.11.2"
    }
  },
  "nbformat": 4,
  "nbformat_minor": 0
}
