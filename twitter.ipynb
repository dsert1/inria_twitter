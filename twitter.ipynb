{
  "cells": [
    {
      "attachments": {},
      "cell_type": "markdown",
      "metadata": {
        "id": "36v7kmjW6meL"
      },
      "source": [
        "# Pour regrouper des achats par SCC (Strongly Connected Components) https://www.geeksforgeeks.org/strongly-connected-components/\n",
        "\n",
        "Deniz Sert\n",
        "12/06/23"
      ]
    },
    {
      "cell_type": "code",
      "execution_count": 6,
      "metadata": {},
      "outputs": [],
      "source": [
        "from tqdm.notebook import tqdm as progressbar\n",
        "import numpy as np\n",
        "import pprint\n",
        "from numba import jit, njit\n",
        "import pandas as pd\n",
        "import numpy as np\n",
        "from collections import defaultdict"
      ]
    },
    {
      "cell_type": "code",
      "execution_count": 7,
      "metadata": {
        "colab": {
          "base_uri": "https://localhost:8080/"
        },
        "id": "2Q5X6DXdDvbn",
        "outputId": "3702b097-346d-4b5a-ba46-5025150e3e0c"
      },
      "outputs": [],
      "source": [
        "df_adjacency_list = pd.read_parquet('early_adj.parquet')"
      ]
    },
    {
      "cell_type": "code",
      "execution_count": 4,
      "metadata": {
        "id": "zXWmLgl76iec"
      },
      "outputs": [],
      "source": [
        "def cluster_nodes(adjacency_list):\n",
        "    dag = create_directed_graph(adjacency_list)\n",
        "    clusters = identify_clusters(dag)\n",
        "    \n",
        "    # Analyze clusters and identify specific characteristics\n",
        "    \n",
        "    return clusters\n",
        "\n",
        "def create_directed_graph(adjacency_list):\n",
        "    dag = defaultdict(list)\n",
        "    for entry in adjacency_list:\n",
        "        source = entry[\"addr_id1\"]\n",
        "        destination = entry[\"addr_id2\"]\n",
        "        value = entry[\"value\"]\n",
        "        height = entry[\"height\"]\n",
        "        dag[source].append((destination, value, height))\n",
        "    \n",
        "    return dag\n",
        "\n",
        "def identify_clusters(dag):\n",
        "    # Use Strongly Connected Components (SCC) algorithm\n",
        "    # to identify clusters within the DAG\n",
        "    clusters = []\n",
        "    \n",
        "    # Implement SCC algorithm here\n",
        "    \n",
        "    return clusters"
      ]
    },
    {
      "attachments": {},
      "cell_type": "markdown",
      "metadata": {
        "id": "VlF_JzhN8PMn"
      },
      "source": [
        "## SCC peut été implementé par l’algorithme de Tarjan"
      ]
    },
    {
      "cell_type": "code",
      "execution_count": 9,
      "metadata": {
        "colab": {
          "base_uri": "https://localhost:8080/"
        },
        "id": "zt57R9k07PSx",
        "outputId": "1de21280-c653-4d21-cc56-d28e9d7ddf9a"
      },
      "outputs": [
        {
          "data": {
            "application/vnd.jupyter.widget-view+json": {
              "model_id": "d80ea875c2db4500b2bb79b38258ef37",
              "version_major": 2,
              "version_minor": 0
            },
            "text/plain": [
              "  0%|          | 0/877912 [00:00<?, ?it/s]"
            ]
          },
          "metadata": {},
          "output_type": "display_data"
        },
        {
          "ename": "KeyboardInterrupt",
          "evalue": "",
          "output_type": "error",
          "traceback": [
            "\u001b[0;31m---------------------------------------------------------------------------\u001b[0m",
            "\u001b[0;31mKeyboardInterrupt\u001b[0m                         Traceback (most recent call last)",
            "Cell \u001b[0;32mIn[9], line 40\u001b[0m\n\u001b[1;32m     35\u001b[0m             strongconnect(node)\n\u001b[1;32m     37\u001b[0m     \u001b[39mreturn\u001b[39;00m result\n\u001b[0;32m---> 40\u001b[0m strongly_connected_components \u001b[39m=\u001b[39m np\u001b[39m.\u001b[39marray(tarjans_algorithm(df_adjacency_list))\n\u001b[1;32m     41\u001b[0m \u001b[39m# print all the elements in the array whose length are greater than 1\u001b[39;00m\n\u001b[1;32m     42\u001b[0m \u001b[39mprint\u001b[39m([x \u001b[39mfor\u001b[39;00m x \u001b[39min\u001b[39;00m strongly_connected_components \u001b[39mif\u001b[39;00m \u001b[39mlen\u001b[39m(x) \u001b[39m>\u001b[39m \u001b[39m1\u001b[39m])\n",
            "Cell \u001b[0;32mIn[9], line 35\u001b[0m, in \u001b[0;36mtarjans_algorithm\u001b[0;34m(graph)\u001b[0m\n\u001b[1;32m     33\u001b[0m \u001b[39mfor\u001b[39;00m node \u001b[39min\u001b[39;00m progressbar(graph[\u001b[39m'\u001b[39m\u001b[39maddr_id1\u001b[39m\u001b[39m'\u001b[39m]\u001b[39m.\u001b[39munique()):\n\u001b[1;32m     34\u001b[0m     \u001b[39mif\u001b[39;00m node \u001b[39mnot\u001b[39;00m \u001b[39min\u001b[39;00m visited:\n\u001b[0;32m---> 35\u001b[0m         strongconnect(node)\n\u001b[1;32m     37\u001b[0m \u001b[39mreturn\u001b[39;00m result\n",
            "Cell \u001b[0;32mIn[9], line 19\u001b[0m, in \u001b[0;36mtarjans_algorithm.<locals>.strongconnect\u001b[0;34m(node)\u001b[0m\n\u001b[1;32m     17\u001b[0m \u001b[39mfor\u001b[39;00m successor \u001b[39min\u001b[39;00m successors:\n\u001b[1;32m     18\u001b[0m     \u001b[39mif\u001b[39;00m successor \u001b[39mnot\u001b[39;00m \u001b[39min\u001b[39;00m visited:\n\u001b[0;32m---> 19\u001b[0m         strongconnect(successor)\n\u001b[1;32m     20\u001b[0m         lowlink[node] \u001b[39m=\u001b[39m \u001b[39mmin\u001b[39m(lowlink[node], lowlink[successor])\n\u001b[1;32m     21\u001b[0m     \u001b[39melif\u001b[39;00m successor \u001b[39min\u001b[39;00m stack:\n",
            "Cell \u001b[0;32mIn[9], line 16\u001b[0m, in \u001b[0;36mtarjans_algorithm.<locals>.strongconnect\u001b[0;34m(node)\u001b[0m\n\u001b[1;32m     13\u001b[0m stack\u001b[39m.\u001b[39mappend(node)\n\u001b[1;32m     14\u001b[0m visited\u001b[39m.\u001b[39madd(node)\n\u001b[0;32m---> 16\u001b[0m successors \u001b[39m=\u001b[39m \u001b[39mlist\u001b[39m(graph\u001b[39m.\u001b[39;49mloc[graph[\u001b[39m'\u001b[39;49m\u001b[39maddr_id1\u001b[39;49m\u001b[39m'\u001b[39;49m] \u001b[39m==\u001b[39;49m node][\u001b[39m'\u001b[39m\u001b[39maddr_id2\u001b[39m\u001b[39m'\u001b[39m])\n\u001b[1;32m     17\u001b[0m \u001b[39mfor\u001b[39;00m successor \u001b[39min\u001b[39;00m successors:\n\u001b[1;32m     18\u001b[0m     \u001b[39mif\u001b[39;00m successor \u001b[39mnot\u001b[39;00m \u001b[39min\u001b[39;00m visited:\n",
            "File \u001b[0;32m/opt/homebrew/lib/python3.11/site-packages/pandas/core/indexing.py:1073\u001b[0m, in \u001b[0;36m_LocationIndexer.__getitem__\u001b[0;34m(self, key)\u001b[0m\n\u001b[1;32m   1070\u001b[0m axis \u001b[39m=\u001b[39m \u001b[39mself\u001b[39m\u001b[39m.\u001b[39maxis \u001b[39mor\u001b[39;00m \u001b[39m0\u001b[39m\n\u001b[1;32m   1072\u001b[0m maybe_callable \u001b[39m=\u001b[39m com\u001b[39m.\u001b[39mapply_if_callable(key, \u001b[39mself\u001b[39m\u001b[39m.\u001b[39mobj)\n\u001b[0;32m-> 1073\u001b[0m \u001b[39mreturn\u001b[39;00m \u001b[39mself\u001b[39;49m\u001b[39m.\u001b[39;49m_getitem_axis(maybe_callable, axis\u001b[39m=\u001b[39;49maxis)\n",
            "File \u001b[0;32m/opt/homebrew/lib/python3.11/site-packages/pandas/core/indexing.py:1292\u001b[0m, in \u001b[0;36m_LocIndexer._getitem_axis\u001b[0;34m(self, key, axis)\u001b[0m\n\u001b[1;32m   1290\u001b[0m     \u001b[39mreturn\u001b[39;00m \u001b[39mself\u001b[39m\u001b[39m.\u001b[39m_get_slice_axis(key, axis\u001b[39m=\u001b[39maxis)\n\u001b[1;32m   1291\u001b[0m \u001b[39melif\u001b[39;00m com\u001b[39m.\u001b[39mis_bool_indexer(key):\n\u001b[0;32m-> 1292\u001b[0m     \u001b[39mreturn\u001b[39;00m \u001b[39mself\u001b[39;49m\u001b[39m.\u001b[39;49m_getbool_axis(key, axis\u001b[39m=\u001b[39;49maxis)\n\u001b[1;32m   1293\u001b[0m \u001b[39melif\u001b[39;00m is_list_like_indexer(key):\n\u001b[1;32m   1294\u001b[0m \n\u001b[1;32m   1295\u001b[0m     \u001b[39m# an iterable multi-selection\u001b[39;00m\n\u001b[1;32m   1296\u001b[0m     \u001b[39mif\u001b[39;00m \u001b[39mnot\u001b[39;00m (\u001b[39misinstance\u001b[39m(key, \u001b[39mtuple\u001b[39m) \u001b[39mand\u001b[39;00m \u001b[39misinstance\u001b[39m(labels, MultiIndex)):\n",
            "File \u001b[0;32m/opt/homebrew/lib/python3.11/site-packages/pandas/core/indexing.py:1093\u001b[0m, in \u001b[0;36m_LocationIndexer._getbool_axis\u001b[0;34m(self, key, axis)\u001b[0m\n\u001b[1;32m   1091\u001b[0m key \u001b[39m=\u001b[39m check_bool_indexer(labels, key)\n\u001b[1;32m   1092\u001b[0m inds \u001b[39m=\u001b[39m key\u001b[39m.\u001b[39mnonzero()[\u001b[39m0\u001b[39m]\n\u001b[0;32m-> 1093\u001b[0m \u001b[39mreturn\u001b[39;00m \u001b[39mself\u001b[39;49m\u001b[39m.\u001b[39;49mobj\u001b[39m.\u001b[39;49m_take_with_is_copy(inds, axis\u001b[39m=\u001b[39;49maxis)\n",
            "File \u001b[0;32m/opt/homebrew/lib/python3.11/site-packages/pandas/core/generic.py:3902\u001b[0m, in \u001b[0;36mNDFrame._take_with_is_copy\u001b[0;34m(self, indices, axis)\u001b[0m\n\u001b[1;32m   3894\u001b[0m \u001b[39mdef\u001b[39;00m \u001b[39m_take_with_is_copy\u001b[39m(\u001b[39mself\u001b[39m: NDFrameT, indices, axis\u001b[39m=\u001b[39m\u001b[39m0\u001b[39m) \u001b[39m-\u001b[39m\u001b[39m>\u001b[39m NDFrameT:\n\u001b[1;32m   3895\u001b[0m \u001b[39m    \u001b[39m\u001b[39m\"\"\"\u001b[39;00m\n\u001b[1;32m   3896\u001b[0m \u001b[39m    Internal version of the `take` method that sets the `_is_copy`\u001b[39;00m\n\u001b[1;32m   3897\u001b[0m \u001b[39m    attribute to keep track of the parent dataframe (using in indexing\u001b[39;00m\n\u001b[0;32m   (...)\u001b[0m\n\u001b[1;32m   3900\u001b[0m \u001b[39m    See the docstring of `take` for full explanation of the parameters.\u001b[39;00m\n\u001b[1;32m   3901\u001b[0m \u001b[39m    \"\"\"\u001b[39;00m\n\u001b[0;32m-> 3902\u001b[0m     result \u001b[39m=\u001b[39m \u001b[39mself\u001b[39;49m\u001b[39m.\u001b[39;49m_take(indices\u001b[39m=\u001b[39;49mindices, axis\u001b[39m=\u001b[39;49maxis)\n\u001b[1;32m   3903\u001b[0m     \u001b[39m# Maybe set copy if we didn't actually change the index.\u001b[39;00m\n\u001b[1;32m   3904\u001b[0m     \u001b[39mif\u001b[39;00m \u001b[39mnot\u001b[39;00m result\u001b[39m.\u001b[39m_get_axis(axis)\u001b[39m.\u001b[39mequals(\u001b[39mself\u001b[39m\u001b[39m.\u001b[39m_get_axis(axis)):\n",
            "File \u001b[0;32m/opt/homebrew/lib/python3.11/site-packages/pandas/core/generic.py:3886\u001b[0m, in \u001b[0;36mNDFrame._take\u001b[0;34m(self, indices, axis, convert_indices)\u001b[0m\n\u001b[1;32m   3879\u001b[0m \u001b[39m\u001b[39m\u001b[39m\"\"\"\u001b[39;00m\n\u001b[1;32m   3880\u001b[0m \u001b[39mInternal version of the `take` allowing specification of additional args.\u001b[39;00m\n\u001b[1;32m   3881\u001b[0m \n\u001b[1;32m   3882\u001b[0m \u001b[39mSee the docstring of `take` for full explanation of the parameters.\u001b[39;00m\n\u001b[1;32m   3883\u001b[0m \u001b[39m\"\"\"\u001b[39;00m\n\u001b[1;32m   3884\u001b[0m \u001b[39mself\u001b[39m\u001b[39m.\u001b[39m_consolidate_inplace()\n\u001b[0;32m-> 3886\u001b[0m new_data \u001b[39m=\u001b[39m \u001b[39mself\u001b[39;49m\u001b[39m.\u001b[39;49m_mgr\u001b[39m.\u001b[39;49mtake(\n\u001b[1;32m   3887\u001b[0m     indices,\n\u001b[1;32m   3888\u001b[0m     axis\u001b[39m=\u001b[39;49m\u001b[39mself\u001b[39;49m\u001b[39m.\u001b[39;49m_get_block_manager_axis(axis),\n\u001b[1;32m   3889\u001b[0m     verify\u001b[39m=\u001b[39;49m\u001b[39mTrue\u001b[39;49;00m,\n\u001b[1;32m   3890\u001b[0m     convert_indices\u001b[39m=\u001b[39;49mconvert_indices,\n\u001b[1;32m   3891\u001b[0m )\n\u001b[1;32m   3892\u001b[0m \u001b[39mreturn\u001b[39;00m \u001b[39mself\u001b[39m\u001b[39m.\u001b[39m_constructor(new_data)\u001b[39m.\u001b[39m__finalize__(\u001b[39mself\u001b[39m, method\u001b[39m=\u001b[39m\u001b[39m\"\u001b[39m\u001b[39mtake\u001b[39m\u001b[39m\"\u001b[39m)\n",
            "File \u001b[0;32m/opt/homebrew/lib/python3.11/site-packages/pandas/core/internals/managers.py:978\u001b[0m, in \u001b[0;36mBaseBlockManager.take\u001b[0;34m(self, indexer, axis, verify, convert_indices)\u001b[0m\n\u001b[1;32m    975\u001b[0m     indexer \u001b[39m=\u001b[39m maybe_convert_indices(indexer, n, verify\u001b[39m=\u001b[39mverify)\n\u001b[1;32m    977\u001b[0m new_labels \u001b[39m=\u001b[39m \u001b[39mself\u001b[39m\u001b[39m.\u001b[39maxes[axis]\u001b[39m.\u001b[39mtake(indexer)\n\u001b[0;32m--> 978\u001b[0m \u001b[39mreturn\u001b[39;00m \u001b[39mself\u001b[39;49m\u001b[39m.\u001b[39;49mreindex_indexer(\n\u001b[1;32m    979\u001b[0m     new_axis\u001b[39m=\u001b[39;49mnew_labels,\n\u001b[1;32m    980\u001b[0m     indexer\u001b[39m=\u001b[39;49mindexer,\n\u001b[1;32m    981\u001b[0m     axis\u001b[39m=\u001b[39;49maxis,\n\u001b[1;32m    982\u001b[0m     allow_dups\u001b[39m=\u001b[39;49m\u001b[39mTrue\u001b[39;49;00m,\n\u001b[1;32m    983\u001b[0m     copy\u001b[39m=\u001b[39;49m\u001b[39mNone\u001b[39;49;00m,\n\u001b[1;32m    984\u001b[0m )\n",
            "File \u001b[0;32m/opt/homebrew/lib/python3.11/site-packages/pandas/core/internals/managers.py:689\u001b[0m, in \u001b[0;36mBaseBlockManager.reindex_indexer\u001b[0;34m(self, new_axis, indexer, axis, fill_value, allow_dups, copy, only_slice, use_na_proxy)\u001b[0m\n\u001b[1;32m    686\u001b[0m     bm\u001b[39m.\u001b[39m_consolidate_inplace()\n\u001b[1;32m    687\u001b[0m     \u001b[39mreturn\u001b[39;00m bm\n\u001b[0;32m--> 689\u001b[0m \u001b[39mdef\u001b[39;00m \u001b[39mreindex_indexer\u001b[39m(\n\u001b[1;32m    690\u001b[0m     \u001b[39mself\u001b[39m: T,\n\u001b[1;32m    691\u001b[0m     new_axis: Index,\n\u001b[1;32m    692\u001b[0m     indexer: npt\u001b[39m.\u001b[39mNDArray[np\u001b[39m.\u001b[39mintp] \u001b[39m|\u001b[39m \u001b[39mNone\u001b[39;00m,\n\u001b[1;32m    693\u001b[0m     axis: \u001b[39mint\u001b[39m,\n\u001b[1;32m    694\u001b[0m     fill_value\u001b[39m=\u001b[39m\u001b[39mNone\u001b[39;00m,\n\u001b[1;32m    695\u001b[0m     allow_dups: \u001b[39mbool\u001b[39m \u001b[39m=\u001b[39m \u001b[39mFalse\u001b[39;00m,\n\u001b[1;32m    696\u001b[0m     copy: \u001b[39mbool\u001b[39m \u001b[39m|\u001b[39m \u001b[39mNone\u001b[39;00m \u001b[39m=\u001b[39m \u001b[39mTrue\u001b[39;00m,\n\u001b[1;32m    697\u001b[0m     only_slice: \u001b[39mbool\u001b[39m \u001b[39m=\u001b[39m \u001b[39mFalse\u001b[39;00m,\n\u001b[1;32m    698\u001b[0m     \u001b[39m*\u001b[39m,\n\u001b[1;32m    699\u001b[0m     use_na_proxy: \u001b[39mbool\u001b[39m \u001b[39m=\u001b[39m \u001b[39mFalse\u001b[39;00m,\n\u001b[1;32m    700\u001b[0m ) \u001b[39m-\u001b[39m\u001b[39m>\u001b[39m T:\n\u001b[1;32m    701\u001b[0m \u001b[39m    \u001b[39m\u001b[39m\"\"\"\u001b[39;00m\n\u001b[1;32m    702\u001b[0m \u001b[39m    Parameters\u001b[39;00m\n\u001b[1;32m    703\u001b[0m \u001b[39m    ----------\u001b[39;00m\n\u001b[0;32m   (...)\u001b[0m\n\u001b[1;32m    716\u001b[0m \u001b[39m    pandas-indexer with -1's only.\u001b[39;00m\n\u001b[1;32m    717\u001b[0m \u001b[39m    \"\"\"\u001b[39;00m\n\u001b[1;32m    718\u001b[0m     \u001b[39mif\u001b[39;00m copy \u001b[39mis\u001b[39;00m \u001b[39mNone\u001b[39;00m:\n",
            "\u001b[0;31mKeyboardInterrupt\u001b[0m: "
          ]
        }
      ],
      "source": [
        "def tarjans_algorithm(graph):\n",
        "    index_counter = [0]\n",
        "    stack = []\n",
        "    lowlink = {}\n",
        "    indices = {}\n",
        "    visited = set()\n",
        "    result = []\n",
        "\n",
        "    with open('result.txt', 'w+') as f:\n",
        "        def strongconnect(node):\n",
        "            indices[node] = index_counter[0]\n",
        "            lowlink[node] = index_counter[0]\n",
        "            index_counter[0] += 1\n",
        "            stack.append(node)\n",
        "            visited.add(node)\n",
        "\n",
        "            successors = list(graph.loc[graph['addr_id1'] == node]['addr_id2'])\n",
        "            for successor in successors:\n",
        "                if successor not in visited:\n",
        "                    strongconnect(successor)\n",
        "                    lowlink[node] = min(lowlink[node], lowlink[successor])\n",
        "                elif successor in stack:\n",
        "                    lowlink[node] = min(lowlink[node], indices[successor])\n",
        "\n",
        "            if lowlink[node] == indices[node]:\n",
        "                scc = []\n",
        "                while True:\n",
        "                    successor = stack.pop()\n",
        "                    scc.append(successor)\n",
        "                    if pd.isnull(successor) or successor == node:\n",
        "                        break\n",
        "                result.append(scc)\n",
        "                f.write(str(scc) + '\\n')\n",
        "\n",
        "        for node in progressbar(graph['addr_id1'].unique()):\n",
        "            if node not in visited:\n",
        "                strongconnect(node)\n",
        "\n",
        "        return result\n",
        "    f.close()\n",
        "\n",
        "\n",
        "strongly_connected_components = np.array(tarjans_algorithm(df_adjacency_list))\n",
        "# print all the elements in the array whose length are greater than 1\n",
        "print([x for x in strongly_connected_components if len(x) > 1])"
      ]
    },
    {
      "cell_type": "code",
      "execution_count": 8,
      "metadata": {},
      "outputs": [
        {
          "data": {
            "application/vnd.jupyter.widget-view+json": {
              "model_id": "572c60e1f1fe4aecb4ded24a97c33f34",
              "version_major": 2,
              "version_minor": 0
            },
            "text/plain": [
              "  0%|          | 0/877912 [00:00<?, ?it/s]"
            ]
          },
          "metadata": {},
          "output_type": "display_data"
        },
        {
          "ename": "KeyboardInterrupt",
          "evalue": "",
          "output_type": "error",
          "traceback": [
            "\u001b[0;31m---------------------------------------------------------------------------\u001b[0m",
            "\u001b[0;31mKeyboardInterrupt\u001b[0m                         Traceback (most recent call last)",
            "Cell \u001b[0;32mIn[8], line 61\u001b[0m\n\u001b[1;32m     58\u001b[0m     \u001b[39mreturn\u001b[39;00m result\n\u001b[1;32m     60\u001b[0m \u001b[39mif\u001b[39;00m \u001b[39m__name__\u001b[39m \u001b[39m==\u001b[39m \u001b[39m\"\u001b[39m\u001b[39m__main__\u001b[39m\u001b[39m\"\u001b[39m:\n\u001b[0;32m---> 61\u001b[0m     strongly_connected_components \u001b[39m=\u001b[39m np\u001b[39m.\u001b[39marray(tarjans_algorithm(df_adjacency_list))\n\u001b[1;32m     62\u001b[0m     \u001b[39m# print all the elements in the array whose length are greater than 1\u001b[39;00m\n\u001b[1;32m     63\u001b[0m     \u001b[39mprint\u001b[39m([x \u001b[39mfor\u001b[39;00m x \u001b[39min\u001b[39;00m strongly_connected_components \u001b[39mif\u001b[39;00m \u001b[39mlen\u001b[39m(x) \u001b[39m>\u001b[39m \u001b[39m1\u001b[39m])\n",
            "Cell \u001b[0;32mIn[8], line 56\u001b[0m, in \u001b[0;36mtarjans_algorithm\u001b[0;34m(graph)\u001b[0m\n\u001b[1;32m     54\u001b[0m \u001b[39mfor\u001b[39;00m node \u001b[39min\u001b[39;00m progressbar(graph[\u001b[39m'\u001b[39m\u001b[39maddr_id1\u001b[39m\u001b[39m'\u001b[39m]\u001b[39m.\u001b[39munique()):\n\u001b[1;32m     55\u001b[0m     \u001b[39mif\u001b[39;00m node \u001b[39mnot\u001b[39;00m \u001b[39min\u001b[39;00m indices:\n\u001b[0;32m---> 56\u001b[0m         strongconnect(node)\n\u001b[1;32m     58\u001b[0m \u001b[39mreturn\u001b[39;00m result\n",
            "Cell \u001b[0;32mIn[8], line 38\u001b[0m, in \u001b[0;36mtarjans_algorithm.<locals>.strongconnect\u001b[0;34m(node)\u001b[0m\n\u001b[1;32m     36\u001b[0m \u001b[39mfor\u001b[39;00m successor \u001b[39min\u001b[39;00m successors:\n\u001b[1;32m     37\u001b[0m     \u001b[39mif\u001b[39;00m successor \u001b[39mnot\u001b[39;00m \u001b[39min\u001b[39;00m indices:\n\u001b[0;32m---> 38\u001b[0m         strongconnect(successor)\n\u001b[1;32m     39\u001b[0m         lowlink[node] \u001b[39m=\u001b[39m \u001b[39mmin\u001b[39m(lowlink[node], lowlink[successor])\n\u001b[1;32m     40\u001b[0m     \u001b[39melif\u001b[39;00m successor \u001b[39min\u001b[39;00m on_stack:\n",
            "Cell \u001b[0;32mIn[8], line 38\u001b[0m, in \u001b[0;36mtarjans_algorithm.<locals>.strongconnect\u001b[0;34m(node)\u001b[0m\n\u001b[1;32m     36\u001b[0m \u001b[39mfor\u001b[39;00m successor \u001b[39min\u001b[39;00m successors:\n\u001b[1;32m     37\u001b[0m     \u001b[39mif\u001b[39;00m successor \u001b[39mnot\u001b[39;00m \u001b[39min\u001b[39;00m indices:\n\u001b[0;32m---> 38\u001b[0m         strongconnect(successor)\n\u001b[1;32m     39\u001b[0m         lowlink[node] \u001b[39m=\u001b[39m \u001b[39mmin\u001b[39m(lowlink[node], lowlink[successor])\n\u001b[1;32m     40\u001b[0m     \u001b[39melif\u001b[39;00m successor \u001b[39min\u001b[39;00m on_stack:\n",
            "Cell \u001b[0;32mIn[8], line 35\u001b[0m, in \u001b[0;36mtarjans_algorithm.<locals>.strongconnect\u001b[0;34m(node)\u001b[0m\n\u001b[1;32m     32\u001b[0m stack\u001b[39m.\u001b[39mappend(node)\n\u001b[1;32m     33\u001b[0m on_stack[node] \u001b[39m=\u001b[39m \u001b[39mTrue\u001b[39;00m\n\u001b[0;32m---> 35\u001b[0m successors \u001b[39m=\u001b[39m \u001b[39mlist\u001b[39m(graph\u001b[39m.\u001b[39;49mloc[graph[\u001b[39m'\u001b[39;49m\u001b[39maddr_id1\u001b[39;49m\u001b[39m'\u001b[39;49m] \u001b[39m==\u001b[39;49m node][\u001b[39m'\u001b[39m\u001b[39maddr_id2\u001b[39m\u001b[39m'\u001b[39m])\n\u001b[1;32m     36\u001b[0m \u001b[39mfor\u001b[39;00m successor \u001b[39min\u001b[39;00m successors:\n\u001b[1;32m     37\u001b[0m     \u001b[39mif\u001b[39;00m successor \u001b[39mnot\u001b[39;00m \u001b[39min\u001b[39;00m indices:\n",
            "File \u001b[0;32m/opt/homebrew/lib/python3.11/site-packages/pandas/core/indexing.py:1073\u001b[0m, in \u001b[0;36m_LocationIndexer.__getitem__\u001b[0;34m(self, key)\u001b[0m\n\u001b[1;32m   1070\u001b[0m axis \u001b[39m=\u001b[39m \u001b[39mself\u001b[39m\u001b[39m.\u001b[39maxis \u001b[39mor\u001b[39;00m \u001b[39m0\u001b[39m\n\u001b[1;32m   1072\u001b[0m maybe_callable \u001b[39m=\u001b[39m com\u001b[39m.\u001b[39mapply_if_callable(key, \u001b[39mself\u001b[39m\u001b[39m.\u001b[39mobj)\n\u001b[0;32m-> 1073\u001b[0m \u001b[39mreturn\u001b[39;00m \u001b[39mself\u001b[39;49m\u001b[39m.\u001b[39;49m_getitem_axis(maybe_callable, axis\u001b[39m=\u001b[39;49maxis)\n",
            "File \u001b[0;32m/opt/homebrew/lib/python3.11/site-packages/pandas/core/indexing.py:1292\u001b[0m, in \u001b[0;36m_LocIndexer._getitem_axis\u001b[0;34m(self, key, axis)\u001b[0m\n\u001b[1;32m   1290\u001b[0m     \u001b[39mreturn\u001b[39;00m \u001b[39mself\u001b[39m\u001b[39m.\u001b[39m_get_slice_axis(key, axis\u001b[39m=\u001b[39maxis)\n\u001b[1;32m   1291\u001b[0m \u001b[39melif\u001b[39;00m com\u001b[39m.\u001b[39mis_bool_indexer(key):\n\u001b[0;32m-> 1292\u001b[0m     \u001b[39mreturn\u001b[39;00m \u001b[39mself\u001b[39;49m\u001b[39m.\u001b[39;49m_getbool_axis(key, axis\u001b[39m=\u001b[39;49maxis)\n\u001b[1;32m   1293\u001b[0m \u001b[39melif\u001b[39;00m is_list_like_indexer(key):\n\u001b[1;32m   1294\u001b[0m \n\u001b[1;32m   1295\u001b[0m     \u001b[39m# an iterable multi-selection\u001b[39;00m\n\u001b[1;32m   1296\u001b[0m     \u001b[39mif\u001b[39;00m \u001b[39mnot\u001b[39;00m (\u001b[39misinstance\u001b[39m(key, \u001b[39mtuple\u001b[39m) \u001b[39mand\u001b[39;00m \u001b[39misinstance\u001b[39m(labels, MultiIndex)):\n",
            "File \u001b[0;32m/opt/homebrew/lib/python3.11/site-packages/pandas/core/indexing.py:1093\u001b[0m, in \u001b[0;36m_LocationIndexer._getbool_axis\u001b[0;34m(self, key, axis)\u001b[0m\n\u001b[1;32m   1091\u001b[0m key \u001b[39m=\u001b[39m check_bool_indexer(labels, key)\n\u001b[1;32m   1092\u001b[0m inds \u001b[39m=\u001b[39m key\u001b[39m.\u001b[39mnonzero()[\u001b[39m0\u001b[39m]\n\u001b[0;32m-> 1093\u001b[0m \u001b[39mreturn\u001b[39;00m \u001b[39mself\u001b[39;49m\u001b[39m.\u001b[39;49mobj\u001b[39m.\u001b[39;49m_take_with_is_copy(inds, axis\u001b[39m=\u001b[39;49maxis)\n",
            "File \u001b[0;32m/opt/homebrew/lib/python3.11/site-packages/pandas/core/generic.py:3902\u001b[0m, in \u001b[0;36mNDFrame._take_with_is_copy\u001b[0;34m(self, indices, axis)\u001b[0m\n\u001b[1;32m   3894\u001b[0m \u001b[39mdef\u001b[39;00m \u001b[39m_take_with_is_copy\u001b[39m(\u001b[39mself\u001b[39m: NDFrameT, indices, axis\u001b[39m=\u001b[39m\u001b[39m0\u001b[39m) \u001b[39m-\u001b[39m\u001b[39m>\u001b[39m NDFrameT:\n\u001b[1;32m   3895\u001b[0m \u001b[39m    \u001b[39m\u001b[39m\"\"\"\u001b[39;00m\n\u001b[1;32m   3896\u001b[0m \u001b[39m    Internal version of the `take` method that sets the `_is_copy`\u001b[39;00m\n\u001b[1;32m   3897\u001b[0m \u001b[39m    attribute to keep track of the parent dataframe (using in indexing\u001b[39;00m\n\u001b[0;32m   (...)\u001b[0m\n\u001b[1;32m   3900\u001b[0m \u001b[39m    See the docstring of `take` for full explanation of the parameters.\u001b[39;00m\n\u001b[1;32m   3901\u001b[0m \u001b[39m    \"\"\"\u001b[39;00m\n\u001b[0;32m-> 3902\u001b[0m     result \u001b[39m=\u001b[39m \u001b[39mself\u001b[39;49m\u001b[39m.\u001b[39;49m_take(indices\u001b[39m=\u001b[39;49mindices, axis\u001b[39m=\u001b[39;49maxis)\n\u001b[1;32m   3903\u001b[0m     \u001b[39m# Maybe set copy if we didn't actually change the index.\u001b[39;00m\n\u001b[1;32m   3904\u001b[0m     \u001b[39mif\u001b[39;00m \u001b[39mnot\u001b[39;00m result\u001b[39m.\u001b[39m_get_axis(axis)\u001b[39m.\u001b[39mequals(\u001b[39mself\u001b[39m\u001b[39m.\u001b[39m_get_axis(axis)):\n",
            "File \u001b[0;32m/opt/homebrew/lib/python3.11/site-packages/pandas/core/generic.py:3886\u001b[0m, in \u001b[0;36mNDFrame._take\u001b[0;34m(self, indices, axis, convert_indices)\u001b[0m\n\u001b[1;32m   3879\u001b[0m \u001b[39m\u001b[39m\u001b[39m\"\"\"\u001b[39;00m\n\u001b[1;32m   3880\u001b[0m \u001b[39mInternal version of the `take` allowing specification of additional args.\u001b[39;00m\n\u001b[1;32m   3881\u001b[0m \n\u001b[1;32m   3882\u001b[0m \u001b[39mSee the docstring of `take` for full explanation of the parameters.\u001b[39;00m\n\u001b[1;32m   3883\u001b[0m \u001b[39m\"\"\"\u001b[39;00m\n\u001b[1;32m   3884\u001b[0m \u001b[39mself\u001b[39m\u001b[39m.\u001b[39m_consolidate_inplace()\n\u001b[0;32m-> 3886\u001b[0m new_data \u001b[39m=\u001b[39m \u001b[39mself\u001b[39;49m\u001b[39m.\u001b[39;49m_mgr\u001b[39m.\u001b[39;49mtake(\n\u001b[1;32m   3887\u001b[0m     indices,\n\u001b[1;32m   3888\u001b[0m     axis\u001b[39m=\u001b[39;49m\u001b[39mself\u001b[39;49m\u001b[39m.\u001b[39;49m_get_block_manager_axis(axis),\n\u001b[1;32m   3889\u001b[0m     verify\u001b[39m=\u001b[39;49m\u001b[39mTrue\u001b[39;49;00m,\n\u001b[1;32m   3890\u001b[0m     convert_indices\u001b[39m=\u001b[39;49mconvert_indices,\n\u001b[1;32m   3891\u001b[0m )\n\u001b[1;32m   3892\u001b[0m \u001b[39mreturn\u001b[39;00m \u001b[39mself\u001b[39m\u001b[39m.\u001b[39m_constructor(new_data)\u001b[39m.\u001b[39m__finalize__(\u001b[39mself\u001b[39m, method\u001b[39m=\u001b[39m\u001b[39m\"\u001b[39m\u001b[39mtake\u001b[39m\u001b[39m\"\u001b[39m)\n",
            "File \u001b[0;32m/opt/homebrew/lib/python3.11/site-packages/pandas/core/internals/managers.py:978\u001b[0m, in \u001b[0;36mBaseBlockManager.take\u001b[0;34m(self, indexer, axis, verify, convert_indices)\u001b[0m\n\u001b[1;32m    975\u001b[0m     indexer \u001b[39m=\u001b[39m maybe_convert_indices(indexer, n, verify\u001b[39m=\u001b[39mverify)\n\u001b[1;32m    977\u001b[0m new_labels \u001b[39m=\u001b[39m \u001b[39mself\u001b[39m\u001b[39m.\u001b[39maxes[axis]\u001b[39m.\u001b[39mtake(indexer)\n\u001b[0;32m--> 978\u001b[0m \u001b[39mreturn\u001b[39;00m \u001b[39mself\u001b[39;49m\u001b[39m.\u001b[39;49mreindex_indexer(\n\u001b[1;32m    979\u001b[0m     new_axis\u001b[39m=\u001b[39;49mnew_labels,\n\u001b[1;32m    980\u001b[0m     indexer\u001b[39m=\u001b[39;49mindexer,\n\u001b[1;32m    981\u001b[0m     axis\u001b[39m=\u001b[39;49maxis,\n\u001b[1;32m    982\u001b[0m     allow_dups\u001b[39m=\u001b[39;49m\u001b[39mTrue\u001b[39;49;00m,\n\u001b[1;32m    983\u001b[0m     copy\u001b[39m=\u001b[39;49m\u001b[39mNone\u001b[39;49;00m,\n\u001b[1;32m    984\u001b[0m )\n",
            "File \u001b[0;32m/opt/homebrew/lib/python3.11/site-packages/pandas/core/internals/managers.py:751\u001b[0m, in \u001b[0;36mBaseBlockManager.reindex_indexer\u001b[0;34m(self, new_axis, indexer, axis, fill_value, allow_dups, copy, only_slice, use_na_proxy)\u001b[0m\n\u001b[1;32m    749\u001b[0m     parent \u001b[39m=\u001b[39m \u001b[39mNone\u001b[39;00m \u001b[39mif\u001b[39;00m com\u001b[39m.\u001b[39mall_none(\u001b[39m*\u001b[39mnew_refs) \u001b[39melse\u001b[39;00m \u001b[39mself\u001b[39m\n\u001b[1;32m    750\u001b[0m \u001b[39melse\u001b[39;00m:\n\u001b[0;32m--> 751\u001b[0m     new_blocks \u001b[39m=\u001b[39m [\n\u001b[1;32m    752\u001b[0m         blk\u001b[39m.\u001b[39;49mtake_nd(\n\u001b[1;32m    753\u001b[0m             indexer,\n\u001b[1;32m    754\u001b[0m             axis\u001b[39m=\u001b[39;49m\u001b[39m1\u001b[39;49m,\n\u001b[1;32m    755\u001b[0m             fill_value\u001b[39m=\u001b[39;49m(\n\u001b[1;32m    756\u001b[0m                 fill_value \u001b[39mif\u001b[39;49;00m fill_value \u001b[39mis\u001b[39;49;00m \u001b[39mnot\u001b[39;49;00m \u001b[39mNone\u001b[39;49;00m \u001b[39melse\u001b[39;49;00m blk\u001b[39m.\u001b[39;49mfill_value\n\u001b[1;32m    757\u001b[0m             ),\n\u001b[1;32m    758\u001b[0m         )\n\u001b[1;32m    759\u001b[0m         \u001b[39mfor\u001b[39;49;00m blk \u001b[39min\u001b[39;49;00m \u001b[39mself\u001b[39;49m\u001b[39m.\u001b[39;49mblocks\n\u001b[1;32m    760\u001b[0m     ]\n\u001b[1;32m    761\u001b[0m     new_refs \u001b[39m=\u001b[39m \u001b[39mNone\u001b[39;00m\n\u001b[1;32m    762\u001b[0m     parent \u001b[39m=\u001b[39m \u001b[39mNone\u001b[39;00m\n",
            "File \u001b[0;32m/opt/homebrew/lib/python3.11/site-packages/pandas/core/internals/managers.py:752\u001b[0m, in \u001b[0;36m<listcomp>\u001b[0;34m(.0)\u001b[0m\n\u001b[1;32m    749\u001b[0m     parent \u001b[39m=\u001b[39m \u001b[39mNone\u001b[39;00m \u001b[39mif\u001b[39;00m com\u001b[39m.\u001b[39mall_none(\u001b[39m*\u001b[39mnew_refs) \u001b[39melse\u001b[39;00m \u001b[39mself\u001b[39m\n\u001b[1;32m    750\u001b[0m \u001b[39melse\u001b[39;00m:\n\u001b[1;32m    751\u001b[0m     new_blocks \u001b[39m=\u001b[39m [\n\u001b[0;32m--> 752\u001b[0m         blk\u001b[39m.\u001b[39;49mtake_nd(\n\u001b[1;32m    753\u001b[0m             indexer,\n\u001b[1;32m    754\u001b[0m             axis\u001b[39m=\u001b[39;49m\u001b[39m1\u001b[39;49m,\n\u001b[1;32m    755\u001b[0m             fill_value\u001b[39m=\u001b[39;49m(\n\u001b[1;32m    756\u001b[0m                 fill_value \u001b[39mif\u001b[39;49;00m fill_value \u001b[39mis\u001b[39;49;00m \u001b[39mnot\u001b[39;49;00m \u001b[39mNone\u001b[39;49;00m \u001b[39melse\u001b[39;49;00m blk\u001b[39m.\u001b[39;49mfill_value\n\u001b[1;32m    757\u001b[0m             ),\n\u001b[1;32m    758\u001b[0m         )\n\u001b[1;32m    759\u001b[0m         \u001b[39mfor\u001b[39;00m blk \u001b[39min\u001b[39;00m \u001b[39mself\u001b[39m\u001b[39m.\u001b[39mblocks\n\u001b[1;32m    760\u001b[0m     ]\n\u001b[1;32m    761\u001b[0m     new_refs \u001b[39m=\u001b[39m \u001b[39mNone\u001b[39;00m\n\u001b[1;32m    762\u001b[0m     parent \u001b[39m=\u001b[39m \u001b[39mNone\u001b[39;00m\n",
            "File \u001b[0;32m/opt/homebrew/lib/python3.11/site-packages/pandas/core/internals/blocks.py:1775\u001b[0m, in \u001b[0;36mExtensionBlock.take_nd\u001b[0;34m(self, indexer, axis, new_mgr_locs, fill_value)\u001b[0m\n\u001b[1;32m   1769\u001b[0m     fill_value \u001b[39m=\u001b[39m \u001b[39mNone\u001b[39;00m\n\u001b[1;32m   1771\u001b[0m \u001b[39m# TODO(EA2D): special case not needed with 2D EAs\u001b[39;00m\n\u001b[1;32m   1772\u001b[0m \u001b[39m# axis doesn't matter; we are really a single-dim object\u001b[39;00m\n\u001b[1;32m   1773\u001b[0m \u001b[39m# but are passed the axis depending on the calling routing\u001b[39;00m\n\u001b[1;32m   1774\u001b[0m \u001b[39m# if its REALLY axis 0, then this will be a reindex and not a take\u001b[39;00m\n\u001b[0;32m-> 1775\u001b[0m new_values \u001b[39m=\u001b[39m \u001b[39mself\u001b[39;49m\u001b[39m.\u001b[39;49mvalues\u001b[39m.\u001b[39;49mtake(indexer, fill_value\u001b[39m=\u001b[39;49mfill_value, allow_fill\u001b[39m=\u001b[39;49m\u001b[39mTrue\u001b[39;49;00m)\n\u001b[1;32m   1777\u001b[0m \u001b[39m# Called from three places in managers, all of which satisfy\u001b[39;00m\n\u001b[1;32m   1778\u001b[0m \u001b[39m#  this assertion\u001b[39;00m\n\u001b[1;32m   1779\u001b[0m \u001b[39massert\u001b[39;00m \u001b[39mnot\u001b[39;00m (\u001b[39mself\u001b[39m\u001b[39m.\u001b[39mndim \u001b[39m==\u001b[39m \u001b[39m1\u001b[39m \u001b[39mand\u001b[39;00m new_mgr_locs \u001b[39mis\u001b[39;00m \u001b[39mNone\u001b[39;00m)\n",
            "File \u001b[0;32m/opt/homebrew/lib/python3.11/site-packages/pandas/core/arrays/masked.py:802\u001b[0m, in \u001b[0;36mBaseMaskedArray.take\u001b[0;34m(self, indexer, allow_fill, fill_value, axis)\u001b[0m\n\u001b[1;32m    791\u001b[0m \u001b[39mdef\u001b[39;00m \u001b[39mtake\u001b[39m(\n\u001b[1;32m    792\u001b[0m     \u001b[39mself\u001b[39m: BaseMaskedArrayT,\n\u001b[1;32m    793\u001b[0m     indexer,\n\u001b[0;32m   (...)\u001b[0m\n\u001b[1;32m    799\u001b[0m     \u001b[39m# we always fill with 1 internally\u001b[39;00m\n\u001b[1;32m    800\u001b[0m     \u001b[39m# to avoid upcasting\u001b[39;00m\n\u001b[1;32m    801\u001b[0m     data_fill_value \u001b[39m=\u001b[39m \u001b[39mself\u001b[39m\u001b[39m.\u001b[39m_internal_fill_value \u001b[39mif\u001b[39;00m isna(fill_value) \u001b[39melse\u001b[39;00m fill_value\n\u001b[0;32m--> 802\u001b[0m     result \u001b[39m=\u001b[39m take(\n\u001b[1;32m    803\u001b[0m         \u001b[39mself\u001b[39;49m\u001b[39m.\u001b[39;49m_data,\n\u001b[1;32m    804\u001b[0m         indexer,\n\u001b[1;32m    805\u001b[0m         fill_value\u001b[39m=\u001b[39;49mdata_fill_value,\n\u001b[1;32m    806\u001b[0m         allow_fill\u001b[39m=\u001b[39;49mallow_fill,\n\u001b[1;32m    807\u001b[0m         axis\u001b[39m=\u001b[39;49maxis,\n\u001b[1;32m    808\u001b[0m     )\n\u001b[1;32m    810\u001b[0m     mask \u001b[39m=\u001b[39m take(\n\u001b[1;32m    811\u001b[0m         \u001b[39mself\u001b[39m\u001b[39m.\u001b[39m_mask, indexer, fill_value\u001b[39m=\u001b[39m\u001b[39mTrue\u001b[39;00m, allow_fill\u001b[39m=\u001b[39mallow_fill, axis\u001b[39m=\u001b[39maxis\n\u001b[1;32m    812\u001b[0m     )\n\u001b[1;32m    814\u001b[0m     \u001b[39m# if we are filling\u001b[39;00m\n\u001b[1;32m    815\u001b[0m     \u001b[39m# we only fill where the indexer is null\u001b[39;00m\n\u001b[1;32m    816\u001b[0m     \u001b[39m# not existing missing values\u001b[39;00m\n\u001b[1;32m    817\u001b[0m     \u001b[39m# TODO(jreback) what if we have a non-na float as a fill value?\u001b[39;00m\n",
            "File \u001b[0;32m/opt/homebrew/lib/python3.11/site-packages/pandas/core/algorithms.py:1572\u001b[0m, in \u001b[0;36mtake\u001b[0;34m(arr, indices, axis, allow_fill, fill_value)\u001b[0m\n\u001b[1;32m   1569\u001b[0m \u001b[39mif\u001b[39;00m allow_fill:\n\u001b[1;32m   1570\u001b[0m     \u001b[39m# Pandas style, -1 means NA\u001b[39;00m\n\u001b[1;32m   1571\u001b[0m     validate_indices(indices, arr\u001b[39m.\u001b[39mshape[axis])\n\u001b[0;32m-> 1572\u001b[0m     result \u001b[39m=\u001b[39m take_nd(\n\u001b[1;32m   1573\u001b[0m         arr, indices, axis\u001b[39m=\u001b[39;49maxis, allow_fill\u001b[39m=\u001b[39;49m\u001b[39mTrue\u001b[39;49;00m, fill_value\u001b[39m=\u001b[39;49mfill_value\n\u001b[1;32m   1574\u001b[0m     )\n\u001b[1;32m   1575\u001b[0m \u001b[39melse\u001b[39;00m:\n\u001b[1;32m   1576\u001b[0m     \u001b[39m# NumPy style\u001b[39;00m\n\u001b[1;32m   1577\u001b[0m     result \u001b[39m=\u001b[39m arr\u001b[39m.\u001b[39mtake(indices, axis\u001b[39m=\u001b[39maxis)\n",
            "File \u001b[0;32m/opt/homebrew/lib/python3.11/site-packages/pandas/core/array_algos/take.py:117\u001b[0m, in \u001b[0;36mtake_nd\u001b[0;34m(arr, indexer, axis, fill_value, allow_fill)\u001b[0m\n\u001b[1;32m    114\u001b[0m     \u001b[39mreturn\u001b[39;00m arr\u001b[39m.\u001b[39mtake(indexer, fill_value\u001b[39m=\u001b[39mfill_value, allow_fill\u001b[39m=\u001b[39mallow_fill)\n\u001b[1;32m    116\u001b[0m arr \u001b[39m=\u001b[39m np\u001b[39m.\u001b[39masarray(arr)\n\u001b[0;32m--> 117\u001b[0m \u001b[39mreturn\u001b[39;00m _take_nd_ndarray(arr, indexer, axis, fill_value, allow_fill)\n",
            "File \u001b[0;32m/opt/homebrew/lib/python3.11/site-packages/pandas/core/array_algos/take.py:163\u001b[0m, in \u001b[0;36m_take_nd_ndarray\u001b[0;34m(arr, indexer, axis, fill_value, allow_fill)\u001b[0m\n\u001b[1;32m    158\u001b[0m     out \u001b[39m=\u001b[39m np\u001b[39m.\u001b[39mempty(out_shape, dtype\u001b[39m=\u001b[39mdtype)\n\u001b[1;32m    160\u001b[0m func \u001b[39m=\u001b[39m _get_take_nd_function(\n\u001b[1;32m    161\u001b[0m     arr\u001b[39m.\u001b[39mndim, arr\u001b[39m.\u001b[39mdtype, out\u001b[39m.\u001b[39mdtype, axis\u001b[39m=\u001b[39maxis, mask_info\u001b[39m=\u001b[39mmask_info\n\u001b[1;32m    162\u001b[0m )\n\u001b[0;32m--> 163\u001b[0m func(arr, indexer, out, fill_value)\n\u001b[1;32m    165\u001b[0m \u001b[39mif\u001b[39;00m flip_order:\n\u001b[1;32m    166\u001b[0m     out \u001b[39m=\u001b[39m out\u001b[39m.\u001b[39mT\n",
            "File \u001b[0;32m/opt/homebrew/lib/python3.11/site-packages/pandas/core/array_algos/take.py:342\u001b[0m, in \u001b[0;36m_get_take_nd_function.<locals>.func\u001b[0;34m(arr, indexer, out, fill_value)\u001b[0m\n\u001b[1;32m    340\u001b[0m \u001b[39mdef\u001b[39;00m \u001b[39mfunc\u001b[39m(arr, indexer, out, fill_value\u001b[39m=\u001b[39mnp\u001b[39m.\u001b[39mnan):\n\u001b[1;32m    341\u001b[0m     indexer \u001b[39m=\u001b[39m ensure_platform_int(indexer)\n\u001b[0;32m--> 342\u001b[0m     _take_nd_object(\n\u001b[1;32m    343\u001b[0m         arr, indexer, out, axis\u001b[39m=\u001b[39;49maxis, fill_value\u001b[39m=\u001b[39;49mfill_value, mask_info\u001b[39m=\u001b[39;49mmask_info\n\u001b[1;32m    344\u001b[0m     )\n",
            "File \u001b[0;32m/opt/homebrew/lib/python3.11/site-packages/pandas/core/array_algos/take.py:514\u001b[0m, in \u001b[0;36m_take_nd_object\u001b[0;34m(arr, indexer, out, axis, fill_value, mask_info)\u001b[0m\n\u001b[1;32m    512\u001b[0m \u001b[39melse\u001b[39;00m:\n\u001b[1;32m    513\u001b[0m     mask \u001b[39m=\u001b[39m indexer \u001b[39m==\u001b[39m \u001b[39m-\u001b[39m\u001b[39m1\u001b[39m\n\u001b[0;32m--> 514\u001b[0m     needs_masking \u001b[39m=\u001b[39m mask\u001b[39m.\u001b[39;49many()\n\u001b[1;32m    515\u001b[0m \u001b[39mif\u001b[39;00m arr\u001b[39m.\u001b[39mdtype \u001b[39m!=\u001b[39m out\u001b[39m.\u001b[39mdtype:\n\u001b[1;32m    516\u001b[0m     arr \u001b[39m=\u001b[39m arr\u001b[39m.\u001b[39mastype(out\u001b[39m.\u001b[39mdtype)\n",
            "File \u001b[0;32m/opt/homebrew/lib/python3.11/site-packages/numpy/core/_methods.py:55\u001b[0m, in \u001b[0;36m_any\u001b[0;34m(a, axis, dtype, out, keepdims, where)\u001b[0m\n\u001b[1;32m     51\u001b[0m \u001b[39mdef\u001b[39;00m \u001b[39m_prod\u001b[39m(a, axis\u001b[39m=\u001b[39m\u001b[39mNone\u001b[39;00m, dtype\u001b[39m=\u001b[39m\u001b[39mNone\u001b[39;00m, out\u001b[39m=\u001b[39m\u001b[39mNone\u001b[39;00m, keepdims\u001b[39m=\u001b[39m\u001b[39mFalse\u001b[39;00m,\n\u001b[1;32m     52\u001b[0m           initial\u001b[39m=\u001b[39m_NoValue, where\u001b[39m=\u001b[39m\u001b[39mTrue\u001b[39;00m):\n\u001b[1;32m     53\u001b[0m     \u001b[39mreturn\u001b[39;00m umr_prod(a, axis, dtype, out, keepdims, initial, where)\n\u001b[0;32m---> 55\u001b[0m \u001b[39mdef\u001b[39;00m \u001b[39m_any\u001b[39m(a, axis\u001b[39m=\u001b[39m\u001b[39mNone\u001b[39;00m, dtype\u001b[39m=\u001b[39m\u001b[39mNone\u001b[39;00m, out\u001b[39m=\u001b[39m\u001b[39mNone\u001b[39;00m, keepdims\u001b[39m=\u001b[39m\u001b[39mFalse\u001b[39;00m, \u001b[39m*\u001b[39m, where\u001b[39m=\u001b[39m\u001b[39mTrue\u001b[39;00m):\n\u001b[1;32m     56\u001b[0m     \u001b[39m# Parsing keyword arguments is currently fairly slow, so avoid it for now\u001b[39;00m\n\u001b[1;32m     57\u001b[0m     \u001b[39mif\u001b[39;00m where \u001b[39mis\u001b[39;00m \u001b[39mTrue\u001b[39;00m:\n\u001b[1;32m     58\u001b[0m         \u001b[39mreturn\u001b[39;00m umr_any(a, axis, dtype, out, keepdims)\n",
            "\u001b[0;31mKeyboardInterrupt\u001b[0m: "
          ]
        }
      ],
      "source": [
        "from tqdm.notebook import tqdm as progressbar\n",
        "import numpy as np\n",
        "import pprint\n",
        "from numba import jit, njit\n",
        "import pandas as pd\n",
        "import numpy as np\n",
        "from collections import defaultdict\n",
        "\n",
        "df_adjacency_list = pd.read_parquet('early_adj.parquet')\n",
        "from tqdm.notebook import tqdm as progressbar\n",
        "import numpy as np\n",
        "import pprint\n",
        "from numba import jit, njit\n",
        "import pandas as pd\n",
        "import numpy as np\n",
        "from collections import defaultdict\n",
        "\n",
        "df_adjacency_list = pd.read_parquet('early_adj.parquet')\n",
        "\n",
        "def identify_clusters(dag):\n",
        "    # Use Strongly Connected Components (SCC) algorithm\n",
        "    # to identify clusters within the DAG\n",
        "    clusters = []\n",
        "    \n",
        "    # Implement SCC algorithm here\n",
        "    \n",
        "    return clusters\n",
        "\n",
        "def tarjans_algorithm(graph):\n",
        "    index_counter = [0]\n",
        "    stack = []\n",
        "    lowlink = {}\n",
        "    indices = {}\n",
        "    on_stack = {}  # Track whether a node is on the stack\n",
        "    result = []\n",
        "\n",
        "    def strongconnect(node):\n",
        "        indices[node] = index_counter[0]\n",
        "        lowlink[node] = index_counter[0]\n",
        "        index_counter[0] += 1\n",
        "        stack.append(node)\n",
        "        on_stack[node] = True\n",
        "\n",
        "        successors = list(graph.loc[graph['addr_id1'] == node]['addr_id2'])\n",
        "        for successor in successors:\n",
        "            if successor not in indices:\n",
        "                strongconnect(successor)\n",
        "                lowlink[node] = min(lowlink[node], lowlink[successor])\n",
        "            elif successor in on_stack:\n",
        "                lowlink[node] = min(lowlink[node], indices[successor])\n",
        "\n",
        "        if lowlink[node] == indices[node]:\n",
        "            scc = []\n",
        "            while True:\n",
        "                successor = stack.pop()\n",
        "                del on_stack[successor]\n",
        "                scc.append(successor)\n",
        "                if indices[successor] == lowlink[node]:\n",
        "                    break\n",
        "            result.append(scc)\n",
        "\n",
        "    for node in progressbar(graph['addr_id1'].unique()):\n",
        "        if node not in indices:\n",
        "            strongconnect(node)\n",
        "\n",
        "    return result\n",
        "\n",
        "if __name__ == \"__main__\":\n",
        "    strongly_connected_components = np.array(tarjans_algorithm(df_adjacency_list))\n",
        "    # print all the elements in the array whose length is greater than 1\n",
        "    print([x for x in strongly_connected_components if len(x) > 1])\n",
        "\n",
        "def tarjans_algorithm(graph):\n",
        "    index_counter = [0]\n",
        "    stack = []\n",
        "    lowlink = {}\n",
        "    indices = {}\n",
        "    on_stack = {}  # Track whether a node is on the stack\n",
        "    result = []\n",
        "\n",
        "    def strongconnect(node):\n",
        "        indices[node] = index_counter[0]\n",
        "        lowlink[node] = index_counter[0]\n",
        "        index_counter[0] += 1\n",
        "        stack.append(node)\n",
        "        on_stack[node] = True\n",
        "\n",
        "        successors = list(graph.loc[graph['addr_id1'] == node]['addr_id2'])\n",
        "        for successor in successors:\n",
        "            if successor not in indices:\n",
        "                strongconnect(successor)\n",
        "                lowlink[node] = min(lowlink[node], lowlink[successor])\n",
        "            elif successor in on_stack:\n",
        "                lowlink[node] = min(lowlink[node], indices[successor])\n",
        "\n",
        "        if lowlink[node] == indices[node]:\n",
        "            scc = []\n",
        "            while True:\n",
        "                successor = stack.pop()\n",
        "                on_stack.pop(successor)\n",
        "                scc.append(successor)\n",
        "                if indices[successor] == lowlink[node]:\n",
        "                    # print(indices[successor])\n",
        "                    break\n",
        "            result.append(scc)\n",
        "\n",
        "    for node in progressbar(graph['addr_id1'].unique()):\n",
        "        if node not in indices:\n",
        "            strongconnect(node)\n",
        "\n",
        "    return result\n",
        "\n",
        "if __name__ == \"__main__\":\n",
        "    strongly_connected_components = np.array(tarjans_algorithm(df_adjacency_list))\n",
        "    # print all the elements in the array whose length are greater than 1\n",
        "    print([x for x in strongly_connected_components if len(x) > 1])"
      ]
    }
  ],
  "metadata": {
    "colab": {
      "provenance": []
    },
    "kernelspec": {
      "display_name": "Python 3",
      "name": "python3"
    },
    "language_info": {
      "codemirror_mode": {
        "name": "ipython",
        "version": 3
      },
      "file_extension": ".py",
      "mimetype": "text/x-python",
      "name": "python",
      "nbconvert_exporter": "python",
      "pygments_lexer": "ipython3",
      "version": "3.11.2"
    }
  },
  "nbformat": 4,
  "nbformat_minor": 0
}
