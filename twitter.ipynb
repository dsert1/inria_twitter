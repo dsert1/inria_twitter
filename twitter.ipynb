{
  "nbformat": 4,
  "nbformat_minor": 0,
  "metadata": {
    "colab": {
      "provenance": []
    },
    "kernelspec": {
      "name": "python3",
      "display_name": "Python 3"
    },
    "language_info": {
      "name": "python"
    }
  },
  "cells": [
    {
      "cell_type": "markdown",
      "source": [
        "# Pour regrouper des achats par SCC (Strongly Connected Components) https://www.geeksforgeeks.org/strongly-connected-components/\n",
        "\n",
        "Deniz Sert\n",
        "12/06/23"
      ],
      "metadata": {
        "id": "36v7kmjW6meL"
      }
    },
    {
      "cell_type": "code",
      "source": [
        "import pandas as pd\n",
        "import numpy as np\n",
        "\n",
        "df_adjacency_list = []\n",
        "\n",
        "\n",
        "# Create dummy data points\n",
        "data = [\n",
        "    [1, 2, 100, 10],\n",
        "    [2, 1, 50, 15],\n",
        "    [3, 4, 200, 20],\n",
        "    [4, 5, 150, 25],\n",
        "    [5, 6, 300, 30],\n",
        "    [6, 5, 75, 35],\n",
        "    [7, 8, 250, 40],\n",
        "    [8, 9, 125, 45],\n",
        "    [9, 10, 400, 50],\n",
        "    [10, 11, 175, 55],\n",
        "    [11, 10, 225, 60],\n",
        "    [12, 13, 350, 65],\n",
        "    [13, 14, 275, 70],\n",
        "    [14, 15, 125, 75],\n",
        "    [15, 1, 275, 80],\n",
        "    [16, 17, 150, 85],\n",
        "    [17, 18, 200, 90],\n",
        "    [18, 15, 100, 95],\n",
        "    [19, 2, 400, 100],\n",
        "    [20, 1, 50, 105]\n",
        "]\n",
        "\n",
        "# Create a DataFrame with the dummy data\n",
        "df_dummy = pd.DataFrame(data, columns=[\"addr_id1\", \"addr_id2\", \"value\", \"height\"]).astype(\n",
        "    {\n",
        "        \"addr_id1\": \"UInt32\",\n",
        "        \"addr_id2\": \"UInt32\",\n",
        "        \"value\": \"UInt64\",\n",
        "        \"height\": \"UInt32\",\n",
        "    }\n",
        ")\n",
        "\n",
        "# Append the DataFrame to the adjacency list\n",
        "df_adjacency_list = df_dummy\n",
        "print(df_adjacency_list)"
      ],
      "metadata": {
        "colab": {
          "base_uri": "https://localhost:8080/"
        },
        "id": "2Q5X6DXdDvbn",
        "outputId": "3702b097-346d-4b5a-ba46-5025150e3e0c"
      },
      "execution_count": null,
      "outputs": [
        {
          "output_type": "stream",
          "name": "stdout",
          "text": [
            "    addr_id1  addr_id2  value  height\n",
            "0          1         2    100      10\n",
            "1          2         1     50      15\n",
            "2          3         4    200      20\n",
            "3          4         5    150      25\n",
            "4          5         6    300      30\n",
            "5          6         5     75      35\n",
            "6          7         8    250      40\n",
            "7          8         9    125      45\n",
            "8          9        10    400      50\n",
            "9         10        11    175      55\n",
            "10        11        10    225      60\n",
            "11        12        13    350      65\n",
            "12        13        14    275      70\n",
            "13        14        15    125      75\n",
            "14        15         1    275      80\n",
            "15        16        17    150      85\n",
            "16        17        18    200      90\n",
            "17        18        15    100      95\n",
            "18        19         2    400     100\n",
            "19        20         1     50     105\n"
          ]
        }
      ]
    },
    {
      "cell_type": "code",
      "source": [
        "import networkx as nx\n",
        "import matplotlib.pyplot as plt\n",
        "\n",
        "def create_dag(adj_list):\n",
        "  # init empty DAG\n",
        "  dag = nx.DiGraph()\n",
        "\n",
        "  for ix, entry in adj_list.iterrows():\n",
        "      source = entry[\"addr_id1\"]\n",
        "      destination = entry[\"addr_id2\"]\n",
        "      value = entry[\"value\"]\n",
        "      height = entry[\"height\"]\n",
        "      dag.add_edge(source, destination, value=value, height=height)\n",
        "\n",
        "\n",
        "  nx.draw_networkx(dag, with_labels=True, node_color='lightblue', edge_color='gray')\n",
        "  plt.show()\n",
        "  print(dag)\n",
        "\n",
        "  return dag"
      ],
      "metadata": {
        "id": "BBU58qeeGL5U"
      },
      "execution_count": null,
      "outputs": []
    },
    {
      "cell_type": "code",
      "execution_count": null,
      "metadata": {
        "id": "zXWmLgl76iec"
      },
      "outputs": [],
      "source": [
        "from collections import defaultdict\n",
        "\n",
        "def cluster_nodes(adjacency_list):\n",
        "    dag = create_directed_graph(adjacency_list)\n",
        "    clusters = identify_clusters(dag)\n",
        "    \n",
        "    # Analyze clusters and identify specific characteristics\n",
        "    \n",
        "    return clusters\n",
        "\n",
        "def create_directed_graph(adjacency_list):\n",
        "    dag = defaultdict(list)\n",
        "    for entry in adjacency_list:\n",
        "        source = entry[\"addr_id1\"]\n",
        "        destination = entry[\"addr_id2\"]\n",
        "        value = entry[\"value\"]\n",
        "        height = entry[\"height\"]\n",
        "        dag[source].append((destination, value, height))\n",
        "    \n",
        "    return dag\n",
        "\n",
        "def identify_clusters(dag):\n",
        "    # Use Strongly Connected Components (SCC) algorithm\n",
        "    # to identify clusters within the DAG\n",
        "    clusters = []\n",
        "    \n",
        "    # Implement SCC algorithm here\n",
        "    \n",
        "    return clusters"
      ]
    },
    {
      "cell_type": "code",
      "source": [
        "#  df_adjacency_list.append(\n",
        "#              pd.DataFrame(\n",
        "#                  adjacency, columns=[\"addr_id1\", \"addr_id2\", \"value\",\n",
        "# \"height\"]\n",
        "#              ).astype(\n",
        "#                  {\n",
        "#                      \"addr_id1\": \"UInt32\",\n",
        "#                      \"addr_id2\": \"UInt32\",\n",
        "#                      \"value\": \"UInt64\",\n",
        "#                      \"height\": \"UInt32\",\n",
        "#                  }\n",
        "#              )\n",
        "#          )\n",
        "\n",
        "# 1.5B unique address\n",
        "# 10B tuples"
      ],
      "metadata": {
        "id": "qnv-V8ao7J-9"
      },
      "execution_count": null,
      "outputs": []
    },
    {
      "cell_type": "markdown",
      "source": [
        "## SCC peut été implementé par l’algorithme de Tarjan"
      ],
      "metadata": {
        "id": "VlF_JzhN8PMn"
      }
    },
    {
      "cell_type": "code",
      "source": [
        "def tarjans_algorithm(graph):\n",
        "    index_counter = [0]\n",
        "    stack = []\n",
        "    lowlink = {}\n",
        "    index = {}\n",
        "    result = []\n",
        "\n",
        "    def strongconnect(node):\n",
        "        # Set the depth index for the current node to the smallest unused index\n",
        "        index[node] = index_counter[0]\n",
        "        lowlink[node] = index_counter[0]\n",
        "        index_counter[0] += 1\n",
        "        stack.append(node)\n",
        "\n",
        "        # Consider successors of the current node\n",
        "        for successor in graph[node]:\n",
        "            if successor not in index:\n",
        "                # Successor has not yet been visited; recursively call strongconnect\n",
        "                strongconnect(successor)\n",
        "                lowlink[node] = min(lowlink[node], lowlink[successor])\n",
        "            elif successor in stack:\n",
        "                # The successor is in the stack and hence in the current strongly connected component\n",
        "                lowlink[node] = min(lowlink[node], index[successor])\n",
        "\n",
        "        # If node is a root node, pop the stack and generate an SCC\n",
        "        if lowlink[node] == index[node]:\n",
        "            scc = []\n",
        "            while True:\n",
        "                successor = stack.pop()\n",
        "                scc.append(successor)\n",
        "                if successor == node:\n",
        "                    break\n",
        "            result.append(scc)\n",
        "\n",
        "    # Call the strongconnect function for each node in the graph\n",
        "    for node in graph:\n",
        "        if node not in index:\n",
        "            strongconnect(node)\n",
        "\n",
        "    return result\n",
        "\n",
        "\n",
        "\n",
        "\n",
        "# Assuming `dag` is the directed graph generated from the adjacency list\n",
        "strongly_connected_components = tarjans_algorithm(dag)\n",
        "print(strongly_connected_components)"
      ],
      "metadata": {
        "id": "zt57R9k07PSx",
        "colab": {
          "base_uri": "https://localhost:8080/"
        },
        "outputId": "1de21280-c653-4d21-cc56-d28e9d7ddf9a"
      },
      "execution_count": null,
      "outputs": [
        {
          "output_type": "stream",
          "name": "stdout",
          "text": [
            "[[2, 1], [6, 5], [4], [3], [11, 10], [9], [8], [7], [15], [14], [13], [12], [18], [17], [16], [19], [20]]\n"
          ]
        }
      ]
    }
  ]
}